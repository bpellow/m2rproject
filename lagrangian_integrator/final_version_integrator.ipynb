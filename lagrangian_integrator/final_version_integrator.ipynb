{
 "cells": [
  {
   "cell_type": "code",
   "execution_count": 72,
   "metadata": {},
   "outputs": [],
   "source": [
    "import matplotlib.pyplot as plt\n",
    "import numpy as np \n",
    "from scipy.interpolate import RegularGridInterpolator\n",
    "\n",
    "def integrate_particles(positions, concentrations, velocity_field, X, Y, dt, num_steps, L, phase_field, gamma):\n",
    "    num_particles = len(positions)\n",
    "    positions_over_time,  concentrations_over_time = np.zeros((num_steps+1, num_particles, 2)), np.zeros((num_steps+1, num_particles, 1))\n",
    "    positions_over_time[0] = positions\n",
    "    concentrations_over_time[0] = concentrations\n",
    "    psiy, psix = -1*diff_wrt_y(velocity_field), diff_wrt_x(velocity_field)\n",
    "    phix, phiy = diff_wrt_x(phase_field), diff_wrt_y(phase_field)\n",
    "    interpsiy, interphix, interpsix, interphiy = interpolate(psiy), interpolate(phix), interpolate(psix), interpolate(phiy)\n",
    "    t = [i*dt for i in range(num_steps+1)]\n",
    "    psiyx, psixy = diff_wrt_x(psiy), diff_wrt_y(psix)\n",
    "    phixx, phiyy = diff_wrt_x(phix), diff_wrt_y(phiy)\n",
    "    interpsiyx, interphixx, interpsixy, interphiyy = interpolate(psiyx), interpolate(phixx), interpolate(psixy), interpolate(phiyy)\n",
    "    a = [interpsiy, interphix, interpsix, interphiy, interpsiyx, interphixx, interpsixy, interphiyy]\n",
    "    answer = new_vector_rk4(fun, t, polynomial_u, polynomial_v, positions_over_time, polynomial_du, polynomial_dv, concentrations_over_time, num_particles, a)\n",
    "    return answer\n",
    "\n",
    "def polynomial_u(coords, a):\n",
    "    interpsiy, interphix = a[0], a[1]\n",
    "    #print(coords)\n",
    "    #print(\"interpolation below\")\n",
    "    #print(interpsiy(coords))\n",
    "    #interpsiy, interphix = a[0], a[1]\n",
    "    return (1-gamma)*interpsiy(coords)+gamma*interphix(coords)\n",
    "\n",
    "def polynomial_v(coords, a):\n",
    "    interpsix, interphiy = a[2], a[3]\n",
    "    return (1-gamma)*interpsix(coords)+gamma*interphiy(coords)\n",
    "\n",
    "def polynomial_du(coords, a):\n",
    "    interpsiyx, interphixx = a[4], a[5]\n",
    "    return (1-gamma)*interpsiyx(coords)+gamma*interphixx(coords)\n",
    "\n",
    "def polynomial_dv(coords, a):\n",
    "    interpsixy, interphiyy = a[6], a[7]\n",
    "    return (1-gamma)*interpsixy(coords)+gamma*interphiyy(coords)\n",
    "\n",
    "def diff_wrt_y(original_matrix): \n",
    "    nt, nx, ny = original_matrix.shape\n",
    "    umatrix = np.copy(original_matrix)\n",
    "    for i in range(nt):\n",
    "        umatrix[i] = np.gradient(original_matrix[i], axis=1) \n",
    "    return umatrix\n",
    "\n",
    "def diff_wrt_x(original_matrix):\n",
    "    vmatrix = np.copy(original_matrix)\n",
    "    nt, nx, ny = original_matrix.shape\n",
    "    for i in range(nt):\n",
    "        vmatrix[i] = np.gradient(original_matrix[i], axis=0) \n",
    "    return vmatrix\n",
    "\n",
    "def interpolate(umatrix):\n",
    "\n",
    "    t = umatrix.shape[0]\n",
    "    time = [i for i in range(t)]\n",
    "    interpolator = RegularGridInterpolator((time, X, Y), umatrix, method = \"cubic\")\n",
    "    return interpolator\n",
    "\n",
    "def new_vector_rk4(f, t, polynomial_u, polynomial_v, positions_over_time, polynomial_du, polynomial_dv, concentrations_over_time, num_particles, a):\n",
    "    n = len(t)\n",
    "    y = np.concatenate((positions_over_time, concentrations_over_time), axis=2)\n",
    "\n",
    "    for i in range(n - 1):\n",
    "        h = t[i+1] - t[i]\n",
    "        k1 = f(t[i], y[i], polynomial_u, polynomial_v, polynomial_du, polynomial_dv, num_particles, a)\n",
    "        k2 = f(t[i] + 0.5*h, (y[i] + 0.5*h*k1) % (2*L), polynomial_u, polynomial_v, polynomial_du, polynomial_dv, num_particles, a)\n",
    "        k3 = f(t[i] + 0.5*h, (y[i] + 0.5*h*k2) % (2*L), polynomial_u, polynomial_v, polynomial_du, polynomial_dv, num_particles, a)\n",
    "        k4 = f(t[i+1], (y[i] + h*k3) % (2*L), polynomial_u, polynomial_v, polynomial_du, polynomial_dv, num_particles, a)\n",
    "        y[i+1] = y[i] + (h/6)*(k1 + 2*k2 + 2*k3 + k4)\n",
    "    return np.mod(y, 2*L)\n",
    "\n",
    "def fun(t, y, polynomial_u, polynomial_v, polynomial_du, polynomial_dv, num_particles, a):\n",
    "    xlist, ylist, conclist = [i % (2*L) for i in y[:, 0]], [i % (2*L) for i in y[:, 1]], [i % (2*L)  for i in y[:, 2]] \n",
    "    timecoords = t*np.ones(num_particles)\n",
    "    coords = [[x, y, z] for x, y, z in zip(timecoords, xlist, ylist)]\n",
    "    dxdt, dydt = polynomial_u(coords, a), polynomial_v(coords, a)\n",
    "    dxdt, dydt = np.array(dxdt).reshape(-1, 1), np.array(dydt).reshape(-1, 1)\n",
    "    dudx, dvdy = polynomial_du(coords, a), polynomial_dv(coords, a)\n",
    "    column = np.array(dvdy+dudx).reshape(-1, 1)\n",
    "    c = np.array(conclist).reshape(-1, 1)\n",
    "    dcdt = -1*c*(column)\n",
    "    result = np.concatenate((dxdt, dydt), axis=1)\n",
    "    result = np.concatenate((result, dcdt), axis=1)\n",
    "    return result\n",
    "\n",
    "\n"
   ]
  },
  {
   "cell_type": "code",
   "execution_count": 73,
   "metadata": {},
   "outputs": [],
   "source": [
    "positions = np.random.rand(6, 2)/5\n",
    "concentrations = np.ones((6, 1))\n",
    "#print(concentrations)\n",
    "X = [0, 1, 2, 3, 4, 5, 6]\n",
    "Y = X\n",
    "dt=0.001\n",
    "num_steps=10\n",
    "L=100\n",
    "velocity_field = np.arange(20*7*7).reshape((20, 7, 7))\n",
    "#print(velocity_field)\n",
    "phase_field = np.zeros(20*7*7).reshape((20, 7, 7))\n",
    "gamma = 0\n",
    "path = integrate_particles(positions, concentrations, velocity_field, X, Y, dt, num_steps, L, phase_field, gamma)"
   ]
  },
  {
   "cell_type": "code",
   "execution_count": 74,
   "metadata": {},
   "outputs": [
    {
     "data": {
      "image/png": "[encoded data removed]",
      "text/plain": [
       "<Figure size 640x480 with 1 Axes>"
      ]
     },
     "metadata": {},
     "output_type": "display_data"
    }
   ],
   "source": [
    "xcoords = [path[i][0][0] for i in range(num_steps+1)]\n",
    "ycoords = [path[i][0][1] for i in range(num_steps+1)]\n",
    "xcoords2 = [path[i][1][0] for i in range(num_steps+1)]\n",
    "ycoords2 = [path[i][1][1] for i in range(num_steps+1)]\n",
    "xcoords3 = [path[i][2][0] for i in range(num_steps+1)]\n",
    "ycoords3 = [path[i][2][1] for i in range(num_steps+1)]\n",
    "\n",
    "plt.plot(xcoords, ycoords)\n",
    "plt.plot(xcoords2, ycoords2)\n",
    "plt.plot(xcoords3, ycoords3)\n",
    "plt.xlim(0, 0.2)\n",
    "plt.ylim(0, 0.2)\n",
    "\n",
    "plt.show()"
   ]
  },
  {
   "cell_type": "code",
   "execution_count": 107,
   "metadata": {},
   "outputs": [],
   "source": [
    "#generate circular path\n",
    "N=11 #0 to 50, do - 25 to centre \n",
    "T=1000\n",
    "K=11\n",
    "circle = np.zeros((N,N))\n",
    "#print(circular_field)\n",
    "for i in range(N):\n",
    "    for j in range(N):\n",
    "        circle[i][j] = ((i-(N-1)/2)**2 + (j-(N-1)/2)**2)**(1/2)\n",
    "circular_field = np.zeros((T,N,N))\n",
    "for i in range(T):\n",
    "    circular_field[i]= circle\n",
    "\n"
   ]
  },
  {
   "cell_type": "code",
   "execution_count": 114,
   "metadata": {},
   "outputs": [],
   "source": [
    "positions = np.random.rand(1, 2)+2\n",
    "concentrations = np.ones((1, 1))\n",
    "#print(concentrations)\n",
    "X = [i for i in range(K)]\n",
    "#print(X)\n",
    "Y = X\n",
    "dt=2\n",
    "num_steps=150\n",
    "L=5\n",
    "velocity_field = circular_field\n",
    "#print(velocity_field)\n",
    "phase_field = np.zeros(T*K*K).reshape((T, K, K))\n",
    "gamma = 0\n",
    "path = integrate_particles(positions, concentrations, velocity_field, X, Y, dt, num_steps, L, phase_field, gamma)"
   ]
  },
  {
   "cell_type": "code",
   "execution_count": 115,
   "metadata": {},
   "outputs": [
    {
     "name": "stdout",
     "output_type": "stream",
     "text": [
      "151\n"
     ]
    },
    {
     "data": {
      "image/png": "[encoded data removed]",
      "text/plain": [
       "<Figure size 640x480 with 1 Axes>"
      ]
     },
     "metadata": {},
     "output_type": "display_data"
    }
   ],
   "source": [
    "xcoords = [path[i][0][0] for i in range(num_steps+1)]\n",
    "ycoords = [path[i][0][1] for i in range(num_steps+1)]\n",
    "print(len(xcoords))\n",
    "\n",
    "\n",
    "plt.plot(xcoords, ycoords)\n",
    "plt.gca().set_aspect('equal')\n",
    "plt.xlim(0, 10)\n",
    "plt.ylim(0, 10)\n",
    "\n",
    "plt.show()"
   ]
  },
  {
   "cell_type": "code",
   "execution_count": null,
   "metadata": {},
   "outputs": [],
   "source": []
  }
 ],
 "metadata": {
  "kernelspec": {
   "display_name": "Python 3",
   "language": "python",
   "name": "python3"
  },
  "language_info": {
   "codemirror_mode": {
    "name": "ipython",
    "version": 3
   },
   "file_extension": ".py",
   "mimetype": "text/x-python",
   "name": "python",
   "nbconvert_exporter": "python",
   "pygments_lexer": "ipython3",
   "version": "3.11.3"
  },
  "orig_nbformat": 4
 },
 "nbformat": 4,
 "nbformat_minor": 2
}
