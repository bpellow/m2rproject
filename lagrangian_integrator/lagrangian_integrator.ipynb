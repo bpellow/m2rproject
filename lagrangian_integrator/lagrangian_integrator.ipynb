{
 "cells": [
  {
   "cell_type": "code",
   "execution_count": 136,
   "metadata": {},
   "outputs": [],
   "source": [
    "import numpy as np\n",
    "import matplotlib.pyplot as plt\n",
    "\n",
    "n = 50               # Size of velocity field\n",
    "num_particles = 1  # Number of particles\n",
    "num_steps = 1000     # Number of time steps\n",
    "dt = 0.01            # Time step size\n",
    "velocity_field = np.empty((n, n), dtype=tuple)\n",
    "velocity_field .fill((1, 0))\n",
    "\n",
    "# Initialize positions randomly within a domain\n",
    "particle_positions = np.random.rand(num_particles, 2)*(n-1)\n",
    "\n",
    "# Initialize velocities as zeros\n",
    "particle_velocities = np.zeros((num_particles, 2))\n",
    "\n",
    "def get_fluid_velocity(pos, velfield):\n",
    "    # Implement your fluid velocity calculation here\n",
    "    # This function should return a 2D velocity vector based on the given position\n",
    "    # The velocity field should be given as a mxm matrix of tuple entries representing the x and y velocities at that point.\n",
    "    #if we don't do land on discrete points we estimate our velocity by looking at the nearest points. \n",
    "    #get decimal part of position\n",
    "    if pos[0] % 1 or pos[1] % 1: \n",
    "        xdecimal = pos[0] % 1\n",
    "        xint = int(pos[0])\n",
    "        ydecimal = pos[1] % 1\n",
    "        yint = int(pos[1])\n",
    "        if xint<n-1 and yint<n-1:\n",
    "            xvel = velfield[xint][yint][0]*(1-xdecimal)*(1-ydecimal) + velfield[xint+1][yint][0]*(xdecimal)*(1-ydecimal) + velfield[xint+1][yint+1][0]*(xdecimal)*(ydecimal) + velfield[xint][yint+1][0]*(ydecimal)*(1-xdecimal)\n",
    "            yvel = velfield[xint][yint][1]*(1-xdecimal)*(1-ydecimal) + velfield[xint+1][yint][1]*(xdecimal)*(1-ydecimal) + velfield[xint+1][yint+1][1]*(xdecimal)*(ydecimal) + velfield[xint][yint+1][1]*(ydecimal)*(1-xdecimal)   \n",
    "        else:\n",
    "            xvel, yvel = 0, 0\n",
    "    else:\n",
    "        xvel, yvel = velfield[pos[0]][pos[1]][0], velfield[pos[0]][pos[1]][1]\n",
    "\n",
    "    return (xvel, yvel) \n",
    "\n",
    "for step in range(num_steps):\n",
    "    # Update particle positions\n",
    "    particle_positions += particle_velocities * dt\n",
    "\n",
    "    # Update particle velocities based on fluid velocity\n",
    "    for i in range(num_particles):\n",
    "        particle_velocities[i] = get_fluid_velocity(particle_positions[i], velocity_field)\n"
   ]
  },
  {
   "cell_type": "code",
   "execution_count": 137,
   "metadata": {},
   "outputs": [
    {
     "data": {
      "text/plain": [
       "array([32.66207707])"
      ]
     },
     "execution_count": 137,
     "metadata": {},
     "output_type": "execute_result"
    },
    {
     "data": {
      "image/png": "[encoded data removed]",
      "text/plain": [
       "<Figure size 640x480 with 1 Axes>"
      ]
     },
     "metadata": {},
     "output_type": "display_data"
    }
   ],
   "source": [
    "plt.xlim(0, n)    \n",
    "plt.ylim(0, n)\n",
    "plt.xlabel('X')\n",
    "plt.ylabel('Y')\n",
    "plt.title('Lagrangian Particle Integration')\n",
    "plt.scatter(particle_positions[:, 0], particle_positions[:, 1])\n",
    "particle_positions[:, 0]\n",
    "particle_positions[:, 1]"
   ]
  },
  {
   "cell_type": "code",
   "execution_count": null,
   "metadata": {},
   "outputs": [],
   "source": [
    "import numpy as np\n",
    "import matplotlib.pyplot as plt\n",
    "from scipy.interpolate import CubicSpline\n",
    "\n",
    "n = 50               # Size of velocity field\n",
    "num_particles = 1  # Number of particles\n",
    "num_steps = 1000     # Number of time steps\n",
    "dt = 0.01            # Time step size\n",
    "velocity_field = np.empty((n, n), dtype=tuple)\n",
    "velocity_field .fill((1, 0))\n",
    "\n",
    "# Initialize positions randomly within a domain\n",
    "particle_positions = np.random.rand(num_particles, 2)*(n-1)\n",
    "\n",
    "# Initialize velocities as zeros\n",
    "particle_velocities = np.zeros((num_particles, 2))\n",
    "\n",
    "def get_fluid_velocity(pos, velfieldU, velfieldV, x, y):\n",
    "    # Implement your fluid velocity calculation here\n",
    "    # This function should return a 2D velocity vector based on the given position\n",
    "    # The velocity field should be given as a mxm matrix of tuple entries representing the x and y velocities at that point.\n",
    "    #if we don't do land on discrete points we estimate our velocity by looking at the nearest points. \n",
    "    #get decimal part of position\n",
    "    #x,y need to be 1D numpy arrays and then the code works. x will refer to all x coordinates and y to all y coordinates\n",
    "    interp_u = CubicSpline(x, y, velfieldU)\n",
    "    interp_v = CubicSpline(x, y, velfieldV)\n",
    "    xvel = interp_u(pos[0], pos[1])\n",
    "    yvel = interp_v(pos[0], pos[1])\n",
    "\n",
    "    return (xvel, yvel) \n",
    "\n",
    "for step in range(num_steps):\n",
    "    # Update particle positions\n",
    "    particle_positions += particle_velocities * dt\n",
    "\n",
    "    # Update particle velocities based on fluid velocity\n",
    "    for i in range(num_particles):\n",
    "        particle_velocities[i] = get_fluid_velocity(particle_positions[i], velocity_field_U, velocity_field_V, x, y)\n"
   ]
  }
 ],
 "metadata": {
  "kernelspec": {
   "display_name": "Python 3",
   "language": "python",
   "name": "python3"
  },
  "language_info": {
   "codemirror_mode": {
    "name": "ipython",
    "version": 3
   },
   "file_extension": ".py",
   "mimetype": "text/x-python",
   "name": "python",
   "nbconvert_exporter": "python",
   "pygments_lexer": "ipython3",
   "version": "3.11.3"
  },
  "orig_nbformat": 4
 },
 "nbformat": 4,
 "nbformat_minor": 2
}
