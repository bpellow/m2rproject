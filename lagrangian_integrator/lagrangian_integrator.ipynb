{
 "cells": [
  {
   "cell_type": "code",
   "execution_count": 48,
   "metadata": {},
   "outputs": [
    {
     "ename": "IndexError",
     "evalue": "only integers, slices (`:`), ellipsis (`...`), numpy.newaxis (`None`) and integer or boolean arrays are valid indices",
     "output_type": "error",
     "traceback": [
      "\u001b[1;31m---------------------------------------------------------------------------\u001b[0m",
      "\u001b[1;31mIndexError\u001b[0m                                Traceback (most recent call last)",
      "Cell \u001b[1;32mIn[48], line 41\u001b[0m\n\u001b[0;32m     39\u001b[0m \u001b[39m# Update particle velocities based on fluid velocity\u001b[39;00m\n\u001b[0;32m     40\u001b[0m \u001b[39mfor\u001b[39;00m i \u001b[39min\u001b[39;00m \u001b[39mrange\u001b[39m(num_particles):\n\u001b[1;32m---> 41\u001b[0m     particle_velocities[i] \u001b[39m=\u001b[39m get_fluid_velocity(particle_positions[i], velocity_field)\n\u001b[0;32m     43\u001b[0m \u001b[39m# Plot particle positions (optional)\u001b[39;00m\n\u001b[0;32m     44\u001b[0m plt\u001b[39m.\u001b[39mscatter(particle_positions[:, \u001b[39m0\u001b[39m], particle_positions[:, \u001b[39m1\u001b[39m])\n",
      "Cell \u001b[1;32mIn[48], line 28\u001b[0m, in \u001b[0;36mget_fluid_velocity\u001b[1;34m(pos, velfield)\u001b[0m\n\u001b[0;32m     26\u001b[0m     ydecimal \u001b[39m=\u001b[39m pos[\u001b[39m1\u001b[39m] \u001b[39m%\u001b[39m \u001b[39m1\u001b[39m\n\u001b[0;32m     27\u001b[0m     yint \u001b[39m=\u001b[39m pos[\u001b[39m1\u001b[39m] \u001b[39m-\u001b[39m ydecimal\n\u001b[1;32m---> 28\u001b[0m     xvel \u001b[39m=\u001b[39m velfield[xint][yint][\u001b[39m0\u001b[39m]\u001b[39m*\u001b[39mxdecimal\u001b[39m*\u001b[39mydecimal \u001b[39m+\u001b[39m velfield[xint\u001b[39m+\u001b[39m\u001b[39m1\u001b[39m][yint][\u001b[39m0\u001b[39m]\u001b[39m*\u001b[39m(\u001b[39m1\u001b[39m\u001b[39m-\u001b[39mxdecimal)\u001b[39m*\u001b[39mydecimal \u001b[39m+\u001b[39m velfield[xint\u001b[39m+\u001b[39m\u001b[39m1\u001b[39m][yint\u001b[39m+\u001b[39m\u001b[39m1\u001b[39m][\u001b[39m0\u001b[39m]\u001b[39m*\u001b[39m(\u001b[39m1\u001b[39m\u001b[39m-\u001b[39mxdecimal)\u001b[39m*\u001b[39m(\u001b[39m1\u001b[39m\u001b[39m-\u001b[39mydecimal) \u001b[39m+\u001b[39m velfield[xint][yint\u001b[39m+\u001b[39m\u001b[39m1\u001b[39m][\u001b[39m0\u001b[39m]\u001b[39m*\u001b[39m(\u001b[39m1\u001b[39m\u001b[39m-\u001b[39mydecimal)\u001b[39m*\u001b[39mxdecimal\n\u001b[0;32m     29\u001b[0m     yvel \u001b[39m=\u001b[39m velfield[xint][yint][\u001b[39m1\u001b[39m]\u001b[39m*\u001b[39mxdecimal\u001b[39m*\u001b[39mydecimal \u001b[39m+\u001b[39m velfield[xint\u001b[39m+\u001b[39m\u001b[39m1\u001b[39m][yint][\u001b[39m1\u001b[39m]\u001b[39m*\u001b[39m(\u001b[39m1\u001b[39m\u001b[39m-\u001b[39mxdecimal)\u001b[39m*\u001b[39mydecimal \u001b[39m+\u001b[39m velfield[xint\u001b[39m+\u001b[39m\u001b[39m1\u001b[39m][yint\u001b[39m+\u001b[39m\u001b[39m1\u001b[39m][\u001b[39m1\u001b[39m]\u001b[39m*\u001b[39m(\u001b[39m1\u001b[39m\u001b[39m-\u001b[39mxdecimal)\u001b[39m*\u001b[39m(\u001b[39m1\u001b[39m\u001b[39m-\u001b[39mydecimal) \u001b[39m+\u001b[39m velfield[xint][yint\u001b[39m+\u001b[39m\u001b[39m1\u001b[39m][\u001b[39m1\u001b[39m]\u001b[39m*\u001b[39m(\u001b[39m1\u001b[39m\u001b[39m-\u001b[39mydecimal)\u001b[39m*\u001b[39mxdecimal\n\u001b[0;32m     30\u001b[0m \u001b[39melse\u001b[39;00m:\n",
      "\u001b[1;31mIndexError\u001b[0m: only integers, slices (`:`), ellipsis (`...`), numpy.newaxis (`None`) and integer or boolean arrays are valid indices"
     ]
    }
   ],
   "source": [
    "import numpy as np\n",
    "import matplotlib.pyplot as plt\n",
    "\n",
    "n = 50               # Size of velocity field\n",
    "num_particles = 100  # Number of particles\n",
    "num_steps = 1000     # Number of time steps\n",
    "dt = 0.01            # Time step size\n",
    "velocity_field = np.empty((n, n), dtype=tuple)\n",
    "velocity_field .fill((0, 0))\n",
    "\n",
    "# Initialize positions randomly within a domain\n",
    "particle_positions = np.random.rand(num_particles, 2)*n\n",
    "\n",
    "# Initialize velocities as zeros\n",
    "particle_velocities = np.zeros((num_particles, 2))\n",
    "\n",
    "def get_fluid_velocity(pos, velfield):\n",
    "    # Implement your fluid velocity calculation here\n",
    "    # This function should return a 2D velocity vector based on the given position\n",
    "    # The velocity field should be given as a mxm matrix of tuple entries representing the x and y velocities at that point.\n",
    "    #if we don't do land on discrete points we estimate our velocity by looking at the nearest points. \n",
    "    #get decimal part of position\n",
    "    if pos[0] % 1 or pos[1] % 1: \n",
    "        xdecimal = pos[0] % 1\n",
    "        xint = pos[0] - xdecimal\n",
    "        ydecimal = pos[1] % 1\n",
    "        yint = pos[1] - ydecimal\n",
    "        xvel = velfield[xint][yint][0]*xdecimal*ydecimal + velfield[xint+1][yint][0]*(1-xdecimal)*ydecimal + velfield[xint+1][yint+1][0]*(1-xdecimal)*(1-ydecimal) + velfield[xint][yint+1][0]*(1-ydecimal)*xdecimal\n",
    "        yvel = velfield[xint][yint][1]*xdecimal*ydecimal + velfield[xint+1][yint][1]*(1-xdecimal)*ydecimal + velfield[xint+1][yint+1][1]*(1-xdecimal)*(1-ydecimal) + velfield[xint][yint+1][1]*(1-ydecimal)*xdecimal\n",
    "    else:\n",
    "        xvel, yvel = velfield[pos[0]][pos[1]][0], velfield[pos[0]][pos[1]][1]\n",
    "\n",
    "    return (xvel, yvel) \n",
    "\n",
    "for step in range(num_steps):\n",
    "    # Update particle positions\n",
    "    particle_positions += particle_velocities * dt\n",
    "\n",
    "    # Update particle velocities based on fluid velocity\n",
    "    for i in range(num_particles):\n",
    "        particle_velocities[i] = get_fluid_velocity(particle_positions[i], velocity_field)\n",
    "\n",
    "    # Plot particle positions (optional)\n",
    "    plt.scatter(particle_positions[:, 0], particle_positions[:, 1])\n",
    "    plt.xlim(0, 1)\n",
    "    plt.ylim(0, 1)\n",
    "    plt.xlabel('X')\n",
    "    plt.ylabel('Y')\n",
    "    plt.title('Lagrangian Particle Integration')\n",
    "    plt.pause(0.001)\n"
   ]
  },
  {
   "cell_type": "code",
   "execution_count": 49,
   "metadata": {},
   "outputs": [],
   "source": [
    "\n",
    "\n",
    "velocity_field = np.empty((n, n), dtype=tuple)\n",
    "velocity_field .fill((0, 0))\n",
    "velocity_field"
   ]
  },
  {
   "cell_type": "code",
   "execution_count": null,
   "metadata": {},
   "outputs": [],
   "source": [
    "plt.show()"
   ]
  }
 ],
 "metadata": {
  "kernelspec": {
   "display_name": "Python 3",
   "language": "python",
   "name": "python3"
  },
  "language_info": {
   "codemirror_mode": {
    "name": "ipython",
    "version": 3
   },
   "file_extension": ".py",
   "mimetype": "text/x-python",
   "name": "python",
   "nbconvert_exporter": "python",
   "pygments_lexer": "ipython3",
   "version": "3.11.3"
  },
  "orig_nbformat": 4
 },
 "nbformat": 4,
 "nbformat_minor": 2
}
