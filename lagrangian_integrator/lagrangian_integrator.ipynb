{
 "cells": [
  {
   "cell_type": "code",
   "execution_count": 75,
   "metadata": {},
   "outputs": [],
   "source": [
    "import numpy as np\n",
    "import matplotlib.pyplot as plt\n",
    "\n",
    "n = 50               # Size of velocity field\n",
    "num_particles = 100  # Number of particles\n",
    "num_steps = 1000     # Number of time steps\n",
    "dt = 0.01            # Time step size\n",
    "velocity_field = np.empty((n, n), dtype=tuple)\n",
    "velocity_field .fill((0, 0))\n",
    "\n",
    "# Initialize positions randomly within a domain\n",
    "particle_positions = np.random.rand(num_particles, 2)*n\n",
    "\n",
    "# Initialize velocities as zeros\n",
    "particle_velocities = np.zeros((num_particles, 2))\n",
    "\n",
    "def get_fluid_velocity(pos, velfield):\n",
    "    # Implement your fluid velocity calculation here\n",
    "    # This function should return a 2D velocity vector based on the given position\n",
    "    # The velocity field should be given as a mxm matrix of tuple entries representing the x and y velocities at that point.\n",
    "    #if we don't do land on discrete points we estimate our velocity by looking at the nearest points. \n",
    "    #get decimal part of position\n",
    "    if pos[0] % 1 or pos[1] % 1: \n",
    "        xdecimal = pos[0] % 1\n",
    "        xint = int(pos[0])\n",
    "        ydecimal = pos[1] % 1\n",
    "        yint = int(pos[1])\n",
    "        if xint<n-1 and yint<n-1:\n",
    "            xvel = velfield[xint][yint][0]*xdecimal*ydecimal + velfield[xint+1][yint][0]*(1-xdecimal)*ydecimal + velfield[xint+1][yint+1][0]*(1-xdecimal)*(1-ydecimal) + velfield[xint][yint+1][0]*(1-ydecimal)*xdecimal\n",
    "            yvel = velfield[xint][yint][1]*xdecimal*ydecimal + velfield[xint+1][yint][1]*(1-xdecimal)*ydecimal + velfield[xint+1][yint+1][1]*(1-xdecimal)*(1-ydecimal) + velfield[xint][yint+1][1]*(1-ydecimal)*xdecimal\n",
    "        else:\n",
    "            xvel, yvel = velfield[xint][yint][0], velfield[xint][yint][1]\n",
    "    else:\n",
    "        xvel, yvel = velfield[pos[0]][pos[1]][0], velfield[pos[0]][pos[1]][1]\n",
    "\n",
    "    return (xvel, yvel) \n",
    "\n",
    "for step in range(num_steps):\n",
    "    # Update particle positions\n",
    "    particle_positions += particle_velocities * dt\n",
    "\n",
    "    # Update particle velocities based on fluid velocity\n",
    "    for i in range(num_particles):\n",
    "        particle_velocities[i] = get_fluid_velocity(particle_positions[i], velocity_field)\n",
    "\n",
    "\n"
   ]
  },
  {
   "cell_type": "code",
   "execution_count": 76,
   "metadata": {},
   "outputs": [
    {
     "data": {
      "image/png": "[encoded data removed]",
      "text/plain": [
       "<Figure size 640x480 with 1 Axes>"
      ]
     },
     "metadata": {},
     "output_type": "display_data"
    }
   ],
   "source": [
    "plt.scatter(particle_positions[:, 0], particle_positions[:, 1])\n",
    "plt.xlim(0, 1)    \n",
    "plt.ylim(0, 1)\n",
    "plt.xlabel('X')\n",
    "plt.ylabel('Y')\n",
    "plt.title('Lagrangian Particle Integration')\n",
    "plt.pause(0.001)\n",
    "plt.show()"
   ]
  }
 ],
 "metadata": {
  "kernelspec": {
   "display_name": "Python 3",
   "language": "python",
   "name": "python3"
  },
  "language_info": {
   "codemirror_mode": {
    "name": "ipython",
    "version": 3
   },
   "file_extension": ".py",
   "mimetype": "text/x-python",
   "name": "python",
   "nbconvert_exporter": "python",
   "pygments_lexer": "ipython3",
   "version": "3.11.3"
  },
  "orig_nbformat": 4
 },
 "nbformat": 4,
 "nbformat_minor": 2
}
