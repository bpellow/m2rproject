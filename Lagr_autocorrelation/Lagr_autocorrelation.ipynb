{
 "cells": [
  {
   "cell_type": "code",
   "execution_count": null,
   "metadata": {},
   "outputs": [],
   "source": [
    "import numpy as np\n",
    "import pickle\n",
    "import matplotlib.pyplot as plt\n",
    "\n",
    "file = open('particle_trajectories', 'rb')\n",
    "solutions = pickle.load(file)\n",
    "file.close()"
   ]
  },
  {
   "cell_type": "code",
   "execution_count": null,
   "metadata": {},
   "outputs": [],
   "source": [
    "#uses Will z's method for finding closest times\n",
    "import bisect\n",
    "def find_closest_time(times, t):\n",
    "    index = bisect.bisect_left(times, t)\n",
    "\n",
    "    # Check if t is exactly in the times\n",
    "    if index < len(times) and times[index] == t:\n",
    "        closest_time = times[index]\n",
    "    else:\n",
    "        # t is not in the times array, so get the closest time before t\n",
    "        closest_time = times[index - 1]\n",
    "    \n",
    "    return closest_time, index - 1\n",
    "\n",
    "\n",
    "time_steps_list = range(1, 2001) # Taking values at every integer time, can adjust this.\n",
    "\n",
    "#start of lang autocorrelation\n",
    "correlation_list = []\n",
    "for time in time_steps_list:\n",
    "    squared_disp_list = []\n",
    "    for sol in solutions:\n",
    "        t_list = sol.t\n",
    "        x = sol.y[0]\n",
    "        y = sol.y[1]\n",
    "        initial_x = x[0]\n",
    "        initial_y = y[0]\n",
    "        \n",
    "        closest_time, index = find_closest_time(t_list, time)\n",
    "        new_x = x[index]\n",
    "        new_y = y[index]\n",
    "        \n",
    "        dx = new_x - initial_x\n",
    "        dy = new_y - initial_y\n",
    "        squared_disp = dx*dx + dy*dy #for each particle, we calculate squared displacement\n",
    "        squared_disp_list.append(squared_disp)\n",
    "        \n",
    "    correlation_list.append(np.mean(squared_disp_list)) #then for each time, we calculate mean of squared displacements over all the particles\n",
    "  \n",
    "\n",
    "\n",
    "fig, ax = plt.subplots()\n",
    "ax.plot(time_steps_list, correlation_list)\n",
    "fig.set_size_inches(10, 8)\n",
    "ax.set_xlim(5,100)#zooms in to get better view of the important part of graph\n",
    "ax.set_ylim(0.5, 0.6)\n",
    "plt.xlabel('Time')\n",
    "plt.ylabel('Correlation')\n",
    "plt.title('Lagrangian Autocorrelation of Particle Tracers')\n",
    "plt.show()"
   ]
  }
 ],
 "metadata": {
  "language_info": {
   "name": "python"
  },
  "orig_nbformat": 4
 },
 "nbformat": 4,
 "nbformat_minor": 2
}
