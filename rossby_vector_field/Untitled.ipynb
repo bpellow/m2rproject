{
 "cells": [
  {
   "cell_type": "code",
   "execution_count": 1,
   "id": "49ef3f1b",
   "metadata": {},
   "outputs": [],
   "source": [
    "import numpy as np\n",
    "from scipy import fft\n",
    "import matplotlib.pyplot as plt\n",
    "import matplotlib.animation as animation\n",
    "%matplotlib notebook\n",
    "\n",
    "N = 50\n",
    "beta = 1\n",
    "L = 1\n",
    "t_vals = np.linspace(0,100,100)\n",
    "phi = np.random.uniform(-2*np.pi, 2*np.pi, size=(N,N))\n",
    "def F(k,l):\n",
    "    K = np.sqrt(k**2 + l**2)\n",
    "    return K**2 * np.exp(-(l*k)**2)\n",
    "\n",
    "def omega(k, l):\n",
    "    return -beta * k / (k**2 + l**2 + L**-2)"
   ]
  }
 ],
 "metadata": {
  "kernelspec": {
   "display_name": "Python 3",
   "language": "python",
   "name": "python3"
  },
  "language_info": {
   "codemirror_mode": {
    "name": "ipython",
    "version": 3
   },
   "file_extension": ".py",
   "mimetype": "text/x-python",
   "name": "python",
   "nbconvert_exporter": "python",
   "pygments_lexer": "ipython3",
   "version": "3.8.8"
  }
 },
 "nbformat": 4,
 "nbformat_minor": 5
}
