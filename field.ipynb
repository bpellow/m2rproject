{
 "cells": [
  {
   "cell_type": "code",
   "execution_count": null,
   "metadata": {},
   "outputs": [],
   "source": [
    "import numpy as np"
   ]
  },
  {
   "cell_type": "code",
   "execution_count": null,
   "metadata": {},
   "outputs": [],
   "source": [
    "def A(k,l):\n",
    "  return 1\n",
    "\n",
    "R_dim = 30e3\n",
    "R_nondim = R_dim/300e3\n",
    "beta_dim = 2e-12\n",
    "beta_nondim = beta_dim * 86400 * 300e3\n",
    "\n",
    "def omega(k,l):\n",
    "    return -beta_nondim * k / (k**2 + l**2 + R_nondim**-2)"
   ]
  },
  {
   "cell_type": "code",
   "execution_count": null,
   "metadata": {},
   "outputs": [],
   "source": [
    "#Set up arrays\n",
    "K,L = np.linspace(-S,S,N),np.linspace(-S,S,N)\n",
    "omega_vals = omega(*np.meshgrid(K,L))\n",
    "periods = np.abs(2*np.pi/omega_vals)\n",
    "\n",
    "T = np.linspace(0,30000,1000)\n",
    "x,y = np.linspace(-np.pi,np.pi,100),np.linspace(-np.pi,np.pi,100)\n",
    "X,Y = np.meshgrid(x,y)"
   ]
  },
  {
   "cell_type": "code",
   "execution_count": null,
   "metadata": {},
   "outputs": [],
   "source": [
    "#Probabilistic scramble\n",
    "f = np.empty((len(T),len(x),len(y)))\n",
    "days_per_reset = 500\n",
    "reset_prob = 0.1\n",
    "time_count = 0\n",
    "#Generate values for stream function\n",
    "phi_vals = np.random.uniform(0,2*np.pi,size=(N,N)) #initialise phase grid\n",
    "for i,k in enumerate(K):\n",
    "  for j,l in enumerate(L):\n",
    "    for m,t in enumerate(T):\n",
    "      f[m] += np.real(A(k,l) * np.exp(1j*(k*X+l*Y - omega(k,l)*t + phi_vals[i,j])))\n",
    "      time_count += np.diff(T)[0]\n",
    "      if time_count > days_per_reset:\n",
    "        time_count = 0\n",
    "        mask = np.random.choice([False, True], size=phi_vals.shape, p=(1-reset_prob,reset_prob))\n",
    "        phi_vals[mask] = np.random.uniform(0,2*np.pi,mask.sum())\n",
    "        "
   ]
  }
 ],
 "metadata": {
  "language_info": {
   "name": "python"
  },
  "orig_nbformat": 4
 },
 "nbformat": 4,
 "nbformat_minor": 2
}
