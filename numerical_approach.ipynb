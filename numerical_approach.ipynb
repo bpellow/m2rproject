{
  "nbformat": 4,
  "nbformat_minor": 0,
  "metadata": {
    "colab": {
      "provenance": [],
      "authorship_tag": "ABX9TyO7x44jx6TtaxUFApUc47wU"
    },
    "kernelspec": {
      "name": "python3",
      "display_name": "Python 3"
    },
    "language_info": {
      "name": "python"
    }
  },
  "cells": [
    {
      "cell_type": "code",
      "source": [
        "import numpy as np\n",
        "import matplotlib.pyplot as plt"
      ],
      "metadata": {
        "id": "13JDsXknPJb9"
      },
      "execution_count": null,
      "outputs": []
    },
    {
      "cell_type": "code",
      "source": [
        "#Dispersion relation\n",
        "R_dim = 30e3\n",
        "R_nondim = R_dim/300e3\n",
        "beta_dim = 2e-12\n",
        "beta_nondim = beta_dim * 86400 * 300e3\n",
        "\n",
        "#Fourier harmonics\n",
        "S = 10 #spectral radius\n",
        "N = 41\n",
        "\n",
        "def omega(k,l):\n",
        "    return -beta_nondim * k / (k**2 + l**2 + R_nondim**-2)\n",
        "\n",
        "def A(k,l):\n",
        "  return 1"
      ],
      "metadata": {
        "id": "O-E_Ph3jP6dr"
      },
      "execution_count": null,
      "outputs": []
    },
    {
      "cell_type": "code",
      "source": [
        "x,y = 1,1\n",
        "np.real(np.sum(1j*K*0.001*np.exp(1j*(K*x + L*y - omega_vals*t + phi))))"
      ],
      "metadata": {
        "id": "AyiN_YgEaf7w"
      },
      "execution_count": null,
      "outputs": []
    },
    {
      "cell_type": "code",
      "source": [
        "from scipy.interpolate import RegularGridInterpolator\n",
        "\n",
        "k,l = np.linspace(-S,S,N),np.linspace(-S,S,N)\n",
        "K,L = np.meshgrid(k,l)\n",
        "phi = np.random.uniform(0,2*np.pi,size=(N,N))\n",
        "\n",
        "def modulo_grid(x, y):\n",
        "  x_mod = np.mod(x + np.pi, 2 * np.pi) - np.pi\n",
        "  y_mod = np.mod(y + np.pi, 2 * np.pi) - np.pi\n",
        "  return x_mod, y_mod\n",
        "\n",
        "\n",
        "\n"
      ],
      "metadata": {
        "id": "e2b6BcMzPIwd"
      },
      "execution_count": null,
      "outputs": []
    },
    {
      "cell_type": "code",
      "source": [
        "P = 1000 #number of gridpoints in physical space\n",
        "omega_vals = omega(K,L)\n",
        "t = 30\n",
        "X,Y = np.linspace(-np.pi,np.pi,P),np.linspace(-np.pi,np.pi,P)\n",
        "U,V = np.empty((P,P)),np.empty((P,P))\n",
        "for i,x in enumerate(X):\n",
        "  for j,y in enumerate(Y):\n",
        "    U[i,j] = np.real(np.sum(1j*K*0.005*np.exp(1j*(K*x + L*y - omega_vals*t + phi))))\n",
        "    V[i,j] = np.real(np.sum(1j*L*0.005*np.exp(1j*(K*x + L*y - omega_vals*t + phi))))"
      ],
      "metadata": {
        "id": "PlMUQ9rBaoC1"
      },
      "execution_count": null,
      "outputs": []
    },
    {
      "cell_type": "code",
      "source": [
        "u_interp = RegularGridInterpolator((X, Y), U)\n",
        "v_interp = RegularGridInterpolator((X, Y), V)\n",
        "\n",
        "def f(t,pos):\n",
        "  #Interpolate value from U,V.\n",
        "  x_mod, y_mod = modulo_grid(*pos)\n",
        "  dx = u_interp([x_mod, y_mod])[0]\n",
        "  dy = v_interp([x_mod, y_mod])[0]\n",
        "  return np.array([dx,dy])\n",
        "\n",
        "U"
      ],
      "metadata": {
        "colab": {
          "base_uri": "https://localhost:8080/"
        },
        "id": "NDP_PkP-FTmo",
        "outputId": "d67bdf3f-e7f4-444e-839b-c7c7ba41a264"
      },
      "execution_count": null,
      "outputs": [
        {
          "output_type": "execute_result",
          "data": {
            "text/plain": [
              "array([[-0.80981475, -0.78235052, -0.75331626, ..., -0.35353254,\n",
              "        -0.33015404, -0.30724775],\n",
              "       [-0.86178745, -0.83399722, -0.80464978, ..., -0.38196783,\n",
              "        -0.35996577, -0.33835257],\n",
              "       [-0.91214562, -0.88416168, -0.8546387 , ..., -0.40913559,\n",
              "        -0.38861105, -0.36839138],\n",
              "       ...,\n",
              "       [-0.83228731, -0.80269915, -0.77376037, ..., -0.50078436,\n",
              "        -0.51719864, -0.53438616],\n",
              "       [-0.84469327, -0.81616192, -0.78828432, ..., -0.50801429,\n",
              "        -0.52609855, -0.54503065],\n",
              "       [-0.85434115, -0.82690421, -0.80012394, ..., -0.5124061 ,\n",
              "        -0.53214959, -0.55281423]])"
            ]
          },
          "metadata": {},
          "execution_count": 12
        }
      ]
    },
    {
      "cell_type": "code",
      "source": [
        "t = 30\n",
        "x,y = 0.5,0.5\n",
        "true = np.real(np.sum(1j*K*1*np.exp(1j*(K*x + L*y - omega_vals*t + phi))))\n",
        "approx = u_interp([x,y])\n",
        "print(true-approx)"
      ],
      "metadata": {
        "colab": {
          "base_uri": "https://localhost:8080/"
        },
        "id": "f1cGPGhx76Eb",
        "outputId": "ce20b2d0-a94c-4489-bcdd-c27eddaa3a4c"
      },
      "execution_count": null,
      "outputs": [
        {
          "output_type": "stream",
          "name": "stdout",
          "text": [
            "[44.5894266]\n"
          ]
        }
      ]
    },
    {
      "cell_type": "code",
      "source": [
        "from scipy.integrate import solve_ivp\n",
        "\n",
        "t_span = (0,10000)\n",
        "y0 = [2,1]\n",
        "sol = solve_ivp(f,t_span,y0)\n",
        "\n",
        "path = sol.y\n",
        "\n",
        "\n"
      ],
      "metadata": {
        "id": "Lo5ch4xFPHcs"
      },
      "execution_count": null,
      "outputs": []
    },
    {
      "cell_type": "code",
      "source": [
        "plt.plot(path[0],path[1])\n",
        "plt.xlim(-np.pi, np.pi)\n",
        "plt.ylim(-np.pi, np.pi)\n",
        "\n",
        "plt.show()"
      ],
      "metadata": {
        "id": "-26RmHrwtC7X",
        "colab": {
          "base_uri": "https://localhost:8080/",
          "height": 430
        },
        "outputId": "90f9d93c-21c6-4f15-ba91-b2d83de27e61"
      },
      "execution_count": null,
      "outputs": [
        {
          "output_type": "display_data",
          "data": {
            "text/plain": [
              "<Figure size 640x480 with 1 Axes>"
            ],
            "image/png": "[encoded data removed]"
          },
          "metadata": {}
        }
      ]
    },
    {
      "cell_type": "code",
      "source": [
        "def rk4(f, y0, t):\n",
        "    n = len(t)\n",
        "    y = np.zeros((n, len(y0)))\n",
        "    y[0] = y0\n",
        "    for i in range(n - 1):\n",
        "        h = t[i+1] - t[i]\n",
        "        k1 = f(t[i], y[i])\n",
        "        test1 = y[i] + 0.5*h*k1\n",
        "        test2 = t[i] + 0.5*h\n",
        "\n",
        "        k2 = f(t[i] + 0.5*h, y[i] + 0.5*h*k1)\n",
        "        k3 = f(t[i] + 0.5*h, y[i] + 0.5*h*k2)\n",
        "        k4 = f(t[i+1], y[i] + h*k3)\n",
        "        y[i+1] = y[i] + (h/6)*(k1 + 2*k2 + 2*k3 + k4)\n",
        "    return y\n",
        "\n",
        "y0 = [1,1]\n",
        "t = np.arange(0, 15000, 0.5)\n",
        "trajectory = rk4(f, y0, t)  "
      ],
      "metadata": {
        "id": "EYopkMmGDqak"
      },
      "execution_count": null,
      "outputs": []
    },
    {
      "cell_type": "code",
      "source": [
        "trajectory\n"
      ],
      "metadata": {
        "colab": {
          "base_uri": "https://localhost:8080/"
        },
        "id": "YypMhOo6FeDh",
        "outputId": "6846cdf3-d12a-4c10-90e6-3b02e30afb55"
      },
      "execution_count": null,
      "outputs": [
        {
          "output_type": "execute_result",
          "data": {
            "text/plain": [
              "array([[ 1.00000000e+00,  1.00000000e+00],\n",
              "       [-8.29690860e+01,  2.10601098e+01],\n",
              "       [-1.85018285e+01, -5.57289394e+00],\n",
              "       ...,\n",
              "       [ 1.82955262e+04, -9.43550142e+03],\n",
              "       [ 1.83237843e+04, -9.40965352e+03],\n",
              "       [ 1.83256077e+04, -9.38735037e+03]])"
            ]
          },
          "metadata": {},
          "execution_count": 52
        }
      ]
    },
    {
      "cell_type": "code",
      "source": [
        "plt.plot(path[:,0],path[:,1])\n",
        "plt.xlim(-np.pi, np.pi)\n",
        "plt.ylim(-np.pi, np.pi)\n",
        "\n",
        "plt.show()"
      ],
      "metadata": {
        "colab": {
          "base_uri": "https://localhost:8080/",
          "height": 430
        },
        "id": "SHuHH74aFbET",
        "outputId": "f2bc7bb5-5d19-42fe-fa2a-199ff9ad0d8c"
      },
      "execution_count": null,
      "outputs": [
        {
          "output_type": "display_data",
          "data": {
            "text/plain": [
              "<Figure size 640x480 with 1 Axes>"
            ],
            "image/png": "[encoded data removed]"
          },
          "metadata": {}
        }
      ]
    }
  ]
}