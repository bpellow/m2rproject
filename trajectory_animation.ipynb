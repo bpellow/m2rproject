{
  "nbformat": 4,
  "nbformat_minor": 0,
  "metadata": {
    "colab": {
      "provenance": [],
      "authorship_tag": "ABX9TyOszljWE0oAgFPOvhk2uDrL"
    },
    "kernelspec": {
      "name": "python3",
      "display_name": "Python 3"
    },
    "language_info": {
      "name": "python"
    }
  },
  "cells": [
    {
      "cell_type": "code",
      "source": [
        "import numpy as np\n",
        "import matplotlib.pyplot as plt\n",
        "import pickle\n",
        "import matplotlib.animation as animation\n",
        "from matplotlib import rc\n",
        "plt.rcParams['animation.embed_limit'] = 50\n",
        "rc('animation', html = 'jshtml')"
      ],
      "metadata": {
        "id": "13JDsXknPJb9"
      },
      "execution_count": 6,
      "outputs": []
    },
    {
      "cell_type": "code",
      "source": [
        "def rk4(f,y0,dt,n,gamma):\n",
        "  t = np.linspace(0, n * dt, n + 1)\n",
        "  y = np.zeros((n+1, len(y0)))\n",
        "  y[0] = y0\n",
        "  for i in range(n):\n",
        "    k1 = dt * f(t[i], y[i],gamma)\n",
        "    k2 = dt * f(t[i] + 0.5 * dt, y[i] + 0.5 * k1,gamma)\n",
        "    k3 = dt * f(t[i] + 0.5 * dt, y[i] + 0.5 * k2,gamma)\n",
        "    k4 = dt * f(t[i] + dt, y[i] + k3,gamma)\n",
        "    y[i + 1] = y[i] + (1/6) * (k1 + 2 * k2 + 2 * k3 + k4)\n",
        "  return y,t"
      ],
      "metadata": {
        "id": "wEhvYPPBoHZo"
      },
      "execution_count": 7,
      "outputs": []
    },
    {
      "cell_type": "code",
      "source": [
        "#Dispersion relation\n",
        "R_dim = 30e3\n",
        "R_nondim = R_dim/300e3\n",
        "beta_dim = 2e-12\n",
        "beta_nondim = beta_dim * 86400 * 300e3\n",
        "\n",
        "#Fourier harmonics\n",
        "S = 10 #spectral radius\n",
        "N = 41\n",
        "\n",
        "def omega(k,l):\n",
        "    return -beta_nondim * k / (k**2 + l**2 + R_nondim**-2)\n",
        "\n",
        "P = 5 #radius of peak\n",
        "H = 0.0005 #0.005 #height of peak (max amplitude)\n",
        "\n",
        "def A(k,l):\n",
        "  return H * np.exp(-0.5*(k**2+l**2-P**2)**2/(2*P**2))"
      ],
      "metadata": {
        "id": "O-E_Ph3jP6dr"
      },
      "execution_count": 8,
      "outputs": []
    },
    {
      "cell_type": "code",
      "source": [
        "k,l = np.linspace(-S,S,N),np.linspace(-S,S,N)\n",
        "K,L = np.meshgrid(k,l)\n",
        "#np.random.seed(10)\n",
        "phi = np.random.uniform(0,2*np.pi,size=(N,N))\n",
        "omega_vals = omega(K,L)\n",
        "A_vals = A(K,L)\n",
        "\n",
        "def modulo_grid(x, y):\n",
        "  x_mod = np.mod(x + np.pi, 2 * np.pi) - np.pi\n",
        "  y_mod = np.mod(y + np.pi, 2 * np.pi) - np.pi\n",
        "  return x_mod,y_mod\n",
        "\n",
        "def streamfunction(t,pos):\n",
        "  x_mod,y_mod = modulo_grid(*pos)\n",
        "  psi = np.sum(A_vals * np.cos(K*x_mod + L*y_mod - omega_vals*t + phi))\n",
        "  return psi\n",
        "\n",
        "def f(t,pos,gamma):\n",
        "  x_mod,y_mod = modulo_grid(*pos)\n",
        "  dpsi_dx = -np.sum(A_vals * K * np.sin(K*x_mod + L*y_mod - omega_vals*t + phi))\n",
        "  dpsi_dy = -np.sum(A_vals * L * np.sin(K*x_mod + L*y_mod - omega_vals*t + phi))\n",
        "  dphi_dx = dpsi_dx\n",
        "  dphi_dy = dpsi_dy\n",
        "\n",
        "  u = gamma * dphi_dx - (1-gamma) * dpsi_dy\n",
        "  v = gamma * dphi_dy + (1-gamma) * dpsi_dx\n",
        "\n",
        "  return np.array([u,v])"
      ],
      "metadata": {
        "id": "e2b6BcMzPIwd"
      },
      "execution_count": 9,
      "outputs": []
    },
    {
      "cell_type": "code",
      "source": [
        "#Randomly select initial points\n",
        "num_points = 1000\n",
        "x_coords = np.random.uniform(-np.pi, np.pi, num_points)\n",
        "y_coords = np.random.uniform(-np.pi, np.pi, num_points)\n",
        "initial_conditions = np.column_stack((x_coords, y_coords))\n",
        "solutions = []\n",
        "\n",
        "time_span = 1000 #number of days\n",
        "n = 2000 #number of time steps\n",
        "dt = time_span / n #length of timestep\n",
        "gamma = 0\n",
        "\n",
        "for y0 in initial_conditions:\n",
        "  y,t = rk4(f,y0,dt,n,gamma)\n",
        "  solutions.append(y)"
      ],
      "metadata": {
        "id": "qrGTM8VLccIc"
      },
      "execution_count": 10,
      "outputs": []
    },
    {
      "cell_type": "code",
      "source": [
        "#Calculate path modulo basin\n",
        "mod_solutions = []\n",
        "for sol in solutions:\n",
        "  mod_sol = np.apply_along_axis(lambda row: modulo_grid(row[0], row[1]), axis=1, arr=sol)\n",
        "  mod_solutions.append(mod_sol)\n"
      ],
      "metadata": {
        "id": "9Xc7Xyrk2CWU"
      },
      "execution_count": 11,
      "outputs": []
    },
    {
      "cell_type": "code",
      "source": [
        "fig = plt.figure()\n",
        "ax = plt.axes(xlim=(-np.pi, np.pi), ylim=(-np.pi, np.pi))\n",
        "ax.set_aspect('equal')\n",
        "particles, = ax.plot([], [], 'bo', markersize=2)\n",
        "\n",
        "def init():\n",
        "    particles.set_data([], [])\n",
        "    return particles,\n",
        "\n",
        "def animate(i):\n",
        "    x = [sol[i, 0] for sol in solutions]\n",
        "    y = [sol[i, 1] for sol in solutions]\n",
        "    particles.set_data(x, y)\n",
        "    return particles,\n",
        "\n",
        "ani = animation.FuncAnimation(fig, animate, frames=n, init_func=init, blit=True, interval=10)\n",
        "ani.save('gammazero.mp4', writer='ffmpeg')"
      ],
      "metadata": {
        "id": "E16smZk2TCJz",
        "colab": {
          "base_uri": "https://localhost:8080/",
          "height": 430
        },
        "outputId": "cc72733c-1190-4765-de5d-9055581ac1aa"
      },
      "execution_count": 12,
      "outputs": [
        {
          "output_type": "display_data",
          "data": {
            "text/plain": [
              "<Figure size 640x480 with 1 Axes>"
            ],
            "image/png": "[encoded data removed]"
          },
          "metadata": {}
        }
      ]
    }
  ]
}